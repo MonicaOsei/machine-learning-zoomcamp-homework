{
 "cells": [
  {
   "cell_type": "code",
   "execution_count": 6,
   "id": "48cc46b3",
   "metadata": {},
   "outputs": [],
   "source": [
    "import pandas as pd\n",
    "import numpy as np\n",
    "\n",
    "import matplotlib.pyplot as plt\n",
    "%matplotlib inline"
   ]
  },
  {
   "cell_type": "markdown",
   "id": "ff5c782c",
   "metadata": {},
   "source": [
    "# Data Preparation"
   ]
  },
  {
   "cell_type": "code",
   "execution_count": 2,
   "id": "b18fe6f8",
   "metadata": {},
   "outputs": [],
   "source": [
    "data = pd.read_csv('https://raw.githubusercontent.com/alexeygrigorev/datasets/master/course_lead_scoring.csv')"
   ]
  },
  {
   "cell_type": "code",
   "execution_count": 3,
   "id": "e7e7ff30",
   "metadata": {},
   "outputs": [],
   "source": [
    "df = data"
   ]
  },
  {
   "cell_type": "code",
   "execution_count": 4,
   "id": "62ae609d",
   "metadata": {},
   "outputs": [
    {
     "data": {
      "text/html": [
       "<div>\n",
       "<style scoped>\n",
       "    .dataframe tbody tr th:only-of-type {\n",
       "        vertical-align: middle;\n",
       "    }\n",
       "\n",
       "    .dataframe tbody tr th {\n",
       "        vertical-align: top;\n",
       "    }\n",
       "\n",
       "    .dataframe thead th {\n",
       "        text-align: right;\n",
       "    }\n",
       "</style>\n",
       "<table border=\"1\" class=\"dataframe\">\n",
       "  <thead>\n",
       "    <tr style=\"text-align: right;\">\n",
       "      <th></th>\n",
       "      <th>lead_source</th>\n",
       "      <th>industry</th>\n",
       "      <th>number_of_courses_viewed</th>\n",
       "      <th>annual_income</th>\n",
       "      <th>employment_status</th>\n",
       "      <th>location</th>\n",
       "      <th>interaction_count</th>\n",
       "      <th>lead_score</th>\n",
       "      <th>converted</th>\n",
       "    </tr>\n",
       "  </thead>\n",
       "  <tbody>\n",
       "    <tr>\n",
       "      <th>0</th>\n",
       "      <td>paid_ads</td>\n",
       "      <td>NaN</td>\n",
       "      <td>1</td>\n",
       "      <td>79450.0</td>\n",
       "      <td>unemployed</td>\n",
       "      <td>south_america</td>\n",
       "      <td>4</td>\n",
       "      <td>0.94</td>\n",
       "      <td>1</td>\n",
       "    </tr>\n",
       "    <tr>\n",
       "      <th>1</th>\n",
       "      <td>social_media</td>\n",
       "      <td>retail</td>\n",
       "      <td>1</td>\n",
       "      <td>46992.0</td>\n",
       "      <td>employed</td>\n",
       "      <td>south_america</td>\n",
       "      <td>1</td>\n",
       "      <td>0.80</td>\n",
       "      <td>0</td>\n",
       "    </tr>\n",
       "    <tr>\n",
       "      <th>2</th>\n",
       "      <td>events</td>\n",
       "      <td>healthcare</td>\n",
       "      <td>5</td>\n",
       "      <td>78796.0</td>\n",
       "      <td>unemployed</td>\n",
       "      <td>australia</td>\n",
       "      <td>3</td>\n",
       "      <td>0.69</td>\n",
       "      <td>1</td>\n",
       "    </tr>\n",
       "    <tr>\n",
       "      <th>3</th>\n",
       "      <td>paid_ads</td>\n",
       "      <td>retail</td>\n",
       "      <td>2</td>\n",
       "      <td>83843.0</td>\n",
       "      <td>NaN</td>\n",
       "      <td>australia</td>\n",
       "      <td>1</td>\n",
       "      <td>0.87</td>\n",
       "      <td>0</td>\n",
       "    </tr>\n",
       "    <tr>\n",
       "      <th>4</th>\n",
       "      <td>referral</td>\n",
       "      <td>education</td>\n",
       "      <td>3</td>\n",
       "      <td>85012.0</td>\n",
       "      <td>self_employed</td>\n",
       "      <td>europe</td>\n",
       "      <td>3</td>\n",
       "      <td>0.62</td>\n",
       "      <td>1</td>\n",
       "    </tr>\n",
       "  </tbody>\n",
       "</table>\n",
       "</div>"
      ],
      "text/plain": [
       "    lead_source    industry  number_of_courses_viewed  annual_income  \\\n",
       "0      paid_ads         NaN                         1        79450.0   \n",
       "1  social_media      retail                         1        46992.0   \n",
       "2        events  healthcare                         5        78796.0   \n",
       "3      paid_ads      retail                         2        83843.0   \n",
       "4      referral   education                         3        85012.0   \n",
       "\n",
       "  employment_status       location  interaction_count  lead_score  converted  \n",
       "0        unemployed  south_america                  4        0.94          1  \n",
       "1          employed  south_america                  1        0.80          0  \n",
       "2        unemployed      australia                  3        0.69          1  \n",
       "3               NaN      australia                  1        0.87          0  \n",
       "4     self_employed         europe                  3        0.62          1  "
      ]
     },
     "execution_count": 4,
     "metadata": {},
     "output_type": "execute_result"
    }
   ],
   "source": [
    "df.head()"
   ]
  },
  {
   "cell_type": "code",
   "execution_count": 5,
   "id": "21bfd79d",
   "metadata": {},
   "outputs": [
    {
     "data": {
      "text/plain": [
       "lead_source                 128\n",
       "industry                    134\n",
       "number_of_courses_viewed      0\n",
       "annual_income               181\n",
       "employment_status           100\n",
       "location                     63\n",
       "interaction_count             0\n",
       "lead_score                    0\n",
       "converted                     0\n",
       "dtype: int64"
      ]
     },
     "execution_count": 5,
     "metadata": {},
     "output_type": "execute_result"
    }
   ],
   "source": [
    "df.isnull().sum()"
   ]
  },
  {
   "cell_type": "code",
   "execution_count": 7,
   "id": "85916bac",
   "metadata": {},
   "outputs": [
    {
     "data": {
      "text/plain": [
       "lead_source                  object\n",
       "industry                     object\n",
       "number_of_courses_viewed      int64\n",
       "annual_income               float64\n",
       "employment_status            object\n",
       "location                     object\n",
       "interaction_count             int64\n",
       "lead_score                  float64\n",
       "converted                     int64\n",
       "dtype: object"
      ]
     },
     "execution_count": 7,
     "metadata": {},
     "output_type": "execute_result"
    }
   ],
   "source": [
    "df.dtypes"
   ]
  },
  {
   "cell_type": "code",
   "execution_count": 8,
   "id": "43d86bdd",
   "metadata": {},
   "outputs": [],
   "source": [
    "numerical =['number_of_courses_viewed', 'annual_income','interaction_count', 'lead_score', 'converted']"
   ]
  },
  {
   "cell_type": "code",
   "execution_count": 9,
   "id": "e2965e90",
   "metadata": {},
   "outputs": [],
   "source": [
    "categorical = ['lead_source', 'industry','employment_status', 'location']"
   ]
  },
  {
   "cell_type": "code",
   "execution_count": 10,
   "id": "8d826b8f",
   "metadata": {},
   "outputs": [],
   "source": [
    "df[numerical] = df[numerical].fillna(0.0)"
   ]
  },
  {
   "cell_type": "code",
   "execution_count": 11,
   "id": "b16bc2e4",
   "metadata": {},
   "outputs": [],
   "source": [
    "df[categorical] = df[categorical].fillna('NA')"
   ]
  },
  {
   "cell_type": "code",
   "execution_count": 12,
   "id": "dd5b192c",
   "metadata": {},
   "outputs": [],
   "source": [
    "from sklearn.model_selection import train_test_split"
   ]
  },
  {
   "cell_type": "code",
   "execution_count": 13,
   "id": "41cbdc36",
   "metadata": {},
   "outputs": [],
   "source": [
    "df_full_train, df_test = train_test_split(df, test_size=0.2, random_state=1)\n",
    "df_train, df_val = train_test_split(df_full_train, test_size=0.25, random_state=1)"
   ]
  },
  {
   "cell_type": "code",
   "execution_count": 14,
   "id": "3eec6255",
   "metadata": {},
   "outputs": [
    {
     "data": {
      "text/plain": [
       "(876, 293, 293)"
      ]
     },
     "execution_count": 14,
     "metadata": {},
     "output_type": "execute_result"
    }
   ],
   "source": [
    "len(df_train), len(df_val), len(df_test)"
   ]
  },
  {
   "cell_type": "code",
   "execution_count": 15,
   "id": "ff72d85d",
   "metadata": {},
   "outputs": [],
   "source": [
    "df_train = df_train.reset_index(drop=True)\n",
    "df_val = df_val.reset_index(drop=True)\n",
    "df_test = df_test.reset_index(drop=True)"
   ]
  },
  {
   "cell_type": "code",
   "execution_count": 16,
   "id": "a6bb4bba",
   "metadata": {},
   "outputs": [],
   "source": [
    "y_train = df_train.converted.values\n",
    "y_val = df_val.converted.values\n",
    "y_test = df_test.converted.values\n",
    "\n",
    "del df_train['converted']\n",
    "del df_val['converted']\n",
    "del df_test['converted']"
   ]
  },
  {
   "cell_type": "markdown",
   "id": "aacb1650",
   "metadata": {},
   "source": [
    "# ROC AUC Importance"
   ]
  },
  {
   "cell_type": "code",
   "execution_count": 33,
   "id": "5af0ca15",
   "metadata": {},
   "outputs": [
    {
     "data": {
      "text/html": [
       "<div>\n",
       "<style scoped>\n",
       "    .dataframe tbody tr th:only-of-type {\n",
       "        vertical-align: middle;\n",
       "    }\n",
       "\n",
       "    .dataframe tbody tr th {\n",
       "        vertical-align: top;\n",
       "    }\n",
       "\n",
       "    .dataframe thead th {\n",
       "        text-align: right;\n",
       "    }\n",
       "</style>\n",
       "<table border=\"1\" class=\"dataframe\">\n",
       "  <thead>\n",
       "    <tr style=\"text-align: right;\">\n",
       "      <th></th>\n",
       "      <th>AUC</th>\n",
       "    </tr>\n",
       "  </thead>\n",
       "  <tbody>\n",
       "    <tr>\n",
       "      <th>number_of_courses_viewed</th>\n",
       "      <td>0.764</td>\n",
       "    </tr>\n",
       "    <tr>\n",
       "      <th>interaction_count</th>\n",
       "      <td>0.738</td>\n",
       "    </tr>\n",
       "    <tr>\n",
       "      <th>lead_score</th>\n",
       "      <td>0.614</td>\n",
       "    </tr>\n",
       "    <tr>\n",
       "      <th>annual_income</th>\n",
       "      <td>0.552</td>\n",
       "    </tr>\n",
       "  </tbody>\n",
       "</table>\n",
       "</div>"
      ],
      "text/plain": [
       "                            AUC\n",
       "number_of_courses_viewed  0.764\n",
       "interaction_count         0.738\n",
       "lead_score                0.614\n",
       "annual_income             0.552"
      ]
     },
     "execution_count": 33,
     "metadata": {},
     "output_type": "execute_result"
    }
   ],
   "source": [
    "from sklearn.metrics import roc_auc_score\n",
    "numerical_columns = ['number_of_courses_viewed', 'annual_income','interaction_count', 'lead_score']\n",
    "auc_scores = []\n",
    "for col in numerical_columns:\n",
    "    X_col = df_train[col].values.reshape(-1, 1)\n",
    "    auc = roc_auc_score(y_train.ravel(), X_col).round(3)\n",
    "    if auc < 0.5:\n",
    "        X_col = -X_col\n",
    "        auc = roc_auc_score(y_train.ravel(), X_col).round(3)\n",
    "    auc_scores.append(auc)\n",
    "\n",
    "auc_scores_df = pd.DataFrame(auc_scores, index=numerical_columns, columns=['AUC'])\n",
    "auc_scores_df.sort_values(ascending=False, by='AUC', inplace=True)\n",
    "auc_scores_df\n",
    "\n"
   ]
  },
  {
   "cell_type": "markdown",
   "id": "d69c693d",
   "metadata": {},
   "source": [
    "# Training the Model"
   ]
  },
  {
   "cell_type": "code",
   "execution_count": 34,
   "id": "8e9aade9",
   "metadata": {},
   "outputs": [],
   "source": [
    "from sklearn.linear_model import LogisticRegression\n",
    "from sklearn.feature_extraction import DictVectorizer"
   ]
  },
  {
   "cell_type": "code",
   "execution_count": 35,
   "id": "915f4faf",
   "metadata": {},
   "outputs": [],
   "source": [
    "def data_transformation(df_tr, df_val):\n",
    "    df_tr_dicts = df_tr.to_dict(orient='records')\n",
    "    df_val_dicts = df_val.to_dict(orient='records')\n",
    "    dv = DictVectorizer(sparse=False)\n",
    "    df_onehot_tr = dv.fit_transform(df_tr_dicts)\n",
    "    df_onehot_val = dv.transform(df_val_dicts)\n",
    "    return df_onehot_tr, df_onehot_val"
   ]
  },
  {
   "cell_type": "code",
   "execution_count": 36,
   "id": "6e05a675",
   "metadata": {},
   "outputs": [],
   "source": [
    "df_onehot_train, df_onehot_val = data_transformation(df_train, df_val)"
   ]
  },
  {
   "cell_type": "code",
   "execution_count": 37,
   "id": "8be1bc2f",
   "metadata": {},
   "outputs": [
    {
     "data": {
      "text/plain": [
       "0.817"
      ]
     },
     "execution_count": 37,
     "metadata": {},
     "output_type": "execute_result"
    }
   ],
   "source": [
    "lr = LogisticRegression(solver='liblinear', C=1.0, max_iter=1000)\n",
    "lr.fit(df_onehot_train, y_train)\n",
    "y_pred = lr.predict_proba(df_onehot_val)[:, 1]\n",
    "roc_auc_score(y_val, y_pred).round(3)"
   ]
  },
  {
   "cell_type": "markdown",
   "id": "28400b78",
   "metadata": {},
   "source": [
    "# Precision and Recall"
   ]
  },
  {
   "cell_type": "code",
   "execution_count": 60,
   "id": "e599b90b",
   "metadata": {},
   "outputs": [
    {
     "name": "stderr",
     "output_type": "stream",
     "text": [
      "C:\\Users\\Elitebook\\AppData\\Local\\Temp\\ipykernel_19424\\2893929433.py:9: RuntimeWarning: invalid value encountered in scalar divide\n",
      "  p = tp.sum() / (tp.sum() + fp.sum())\n"
     ]
    }
   ],
   "source": [
    "thresholds = np.linspace(0.0, 0.99, 100)\n",
    "scores = []\n",
    "for t in thresholds:\n",
    "    tp = (y_pred >= t) & (y_val == 1)\n",
    "    fp = (y_pred >= t) & (y_val == 0)\n",
    "    tn = (y_pred < t) & (y_val == 0)\n",
    "    fn = (y_pred < t) & (y_val == 1)\n",
    "    \n",
    "    p = tp.sum() / (tp.sum() + fp.sum())\n",
    "    r = tp.sum() / (tp.sum() + fn.sum())\n",
    "    scores.append((t, p, r, p-r))\n",
    "\n",
    "p_r_df = pd.DataFrame(scores, columns=['threshold', 'precision', 'recall', 'p_minus_r'])"
   ]
  },
  {
   "cell_type": "code",
   "execution_count": 61,
   "id": "8e7b3673",
   "metadata": {},
   "outputs": [
    {
     "data": {
      "image/png": "[encoded data removed]",
      "text/plain": [
       "<Figure size 640x480 with 1 Axes>"
      ]
     },
     "metadata": {},
     "output_type": "display_data"
    }
   ],
   "source": [
    "fig, ax = plt.subplots()\n",
    "ax.plot(thresholds, p_r_df.precision, color='red', label='Precision')\n",
    "ax.plot(thresholds, p_r_df.recall, color='blue', label='Recall')\n",
    "ax.legend();"
   ]
  },
  {
   "cell_type": "code",
   "execution_count": 62,
   "id": "65e7b971",
   "metadata": {},
   "outputs": [
    {
     "data": {
      "text/html": [
       "<div>\n",
       "<style scoped>\n",
       "    .dataframe tbody tr th:only-of-type {\n",
       "        vertical-align: middle;\n",
       "    }\n",
       "\n",
       "    .dataframe tbody tr th {\n",
       "        vertical-align: top;\n",
       "    }\n",
       "\n",
       "    .dataframe thead th {\n",
       "        text-align: right;\n",
       "    }\n",
       "</style>\n",
       "<table border=\"1\" class=\"dataframe\">\n",
       "  <thead>\n",
       "    <tr style=\"text-align: right;\">\n",
       "      <th></th>\n",
       "      <th>threshold</th>\n",
       "      <th>minus_abs_p_minus_r</th>\n",
       "    </tr>\n",
       "  </thead>\n",
       "  <tbody>\n",
       "    <tr>\n",
       "      <th>64</th>\n",
       "      <td>0.64</td>\n",
       "      <td>-0.004556</td>\n",
       "    </tr>\n",
       "    <tr>\n",
       "      <th>65</th>\n",
       "      <td>0.65</td>\n",
       "      <td>-0.018209</td>\n",
       "    </tr>\n",
       "    <tr>\n",
       "      <th>63</th>\n",
       "      <td>0.63</td>\n",
       "      <td>-0.049129</td>\n",
       "    </tr>\n",
       "    <tr>\n",
       "      <th>66</th>\n",
       "      <td>0.66</td>\n",
       "      <td>-0.054728</td>\n",
       "    </tr>\n",
       "    <tr>\n",
       "      <th>62</th>\n",
       "      <td>0.62</td>\n",
       "      <td>-0.075619</td>\n",
       "    </tr>\n",
       "  </tbody>\n",
       "</table>\n",
       "</div>"
      ],
      "text/plain": [
       "    threshold  minus_abs_p_minus_r\n",
       "64       0.64            -0.004556\n",
       "65       0.65            -0.018209\n",
       "63       0.63            -0.049129\n",
       "66       0.66            -0.054728\n",
       "62       0.62            -0.075619"
      ]
     },
     "execution_count": 62,
     "metadata": {},
     "output_type": "execute_result"
    }
   ],
   "source": [
    "p_r_df['minus_abs_p_minus_r'] = p_r_df.p_minus_r.apply(lambda x: -abs(x))\n",
    "p_r_df[['threshold', 'minus_abs_p_minus_r']].nlargest(5, 'minus_abs_p_minus_r')"
   ]
  },
  {
   "cell_type": "markdown",
   "id": "1fddd87e",
   "metadata": {},
   "source": [
    "# F1 Score"
   ]
  },
  {
   "cell_type": "code",
   "execution_count": 63,
   "id": "ec37dd40",
   "metadata": {},
   "outputs": [
    {
     "name": "stderr",
     "output_type": "stream",
     "text": [
      "C:\\Users\\Elitebook\\AppData\\Local\\Temp\\ipykernel_19424\\3950889907.py:9: RuntimeWarning: invalid value encountered in scalar divide\n",
      "  p = tp.sum() / (tp.sum() + fp.sum())\n"
     ]
    }
   ],
   "source": [
    "thresholds = np.linspace(0.0, 0.99, 100)\n",
    "f1_scores = []\n",
    "for t in thresholds:\n",
    "    tp = (y_pred >= t) & (y_val == 1)\n",
    "    fp = (y_pred >= t) & (y_val == 0)\n",
    "    tn = (y_pred < t) & (y_val == 0)\n",
    "    fn = (y_pred < t) & (y_val == 1)\n",
    "    \n",
    "    p = tp.sum() / (tp.sum() + fp.sum())\n",
    "    r = tp.sum() / (tp.sum() + fn.sum())\n",
    "    f1 = 2*p*r/(p+r)\n",
    "    f1_scores.append((t, f1))\n",
    "\n",
    "f1_df = pd.DataFrame(f1_scores, columns=['threshold', 'f-score'])"
   ]
  },
  {
   "cell_type": "code",
   "execution_count": 64,
   "id": "940a87b2",
   "metadata": {},
   "outputs": [
    {
     "data": {
      "text/html": [
       "<div>\n",
       "<style scoped>\n",
       "    .dataframe tbody tr th:only-of-type {\n",
       "        vertical-align: middle;\n",
       "    }\n",
       "\n",
       "    .dataframe tbody tr th {\n",
       "        vertical-align: top;\n",
       "    }\n",
       "\n",
       "    .dataframe thead th {\n",
       "        text-align: right;\n",
       "    }\n",
       "</style>\n",
       "<table border=\"1\" class=\"dataframe\">\n",
       "  <thead>\n",
       "    <tr style=\"text-align: right;\">\n",
       "      <th></th>\n",
       "      <th>threshold</th>\n",
       "      <th>f-score</th>\n",
       "    </tr>\n",
       "  </thead>\n",
       "  <tbody>\n",
       "    <tr>\n",
       "      <th>57</th>\n",
       "      <td>0.57</td>\n",
       "      <td>0.812500</td>\n",
       "    </tr>\n",
       "    <tr>\n",
       "      <th>55</th>\n",
       "      <td>0.55</td>\n",
       "      <td>0.811224</td>\n",
       "    </tr>\n",
       "    <tr>\n",
       "      <th>56</th>\n",
       "      <td>0.56</td>\n",
       "      <td>0.809278</td>\n",
       "    </tr>\n",
       "    <tr>\n",
       "      <th>59</th>\n",
       "      <td>0.59</td>\n",
       "      <td>0.808511</td>\n",
       "    </tr>\n",
       "    <tr>\n",
       "      <th>58</th>\n",
       "      <td>0.58</td>\n",
       "      <td>0.808399</td>\n",
       "    </tr>\n",
       "  </tbody>\n",
       "</table>\n",
       "</div>"
      ],
      "text/plain": [
       "    threshold   f-score\n",
       "57       0.57  0.812500\n",
       "55       0.55  0.811224\n",
       "56       0.56  0.809278\n",
       "59       0.59  0.808511\n",
       "58       0.58  0.808399"
      ]
     },
     "execution_count": 64,
     "metadata": {},
     "output_type": "execute_result"
    }
   ],
   "source": [
    "f1_df.nlargest(5, 'f-score')"
   ]
  },
  {
   "cell_type": "markdown",
   "id": "8adc7ea3",
   "metadata": {},
   "source": [
    "# 5-Fold CV"
   ]
  },
  {
   "cell_type": "code",
   "execution_count": 66,
   "id": "d1ef4f2a",
   "metadata": {},
   "outputs": [],
   "source": [
    "from sklearn.model_selection import KFold"
   ]
  },
  {
   "cell_type": "code",
   "execution_count": 67,
   "id": "3587c013",
   "metadata": {},
   "outputs": [],
   "source": [
    "def train(df_train, y_train, C=1.0):\n",
    "    dicts = df_train.to_dict(orient='records')\n",
    "    dv = DictVectorizer(sparse=False)\n",
    "    df_train = dv.fit_transform(dicts)\n",
    "    model = LogisticRegression(solver='liblinear', C=C, max_iter=1000)\n",
    "    model.fit(df_train, y_train)\n",
    "    return dv, model"
   ]
  },
  {
   "cell_type": "code",
   "execution_count": 68,
   "id": "278e2f2d",
   "metadata": {},
   "outputs": [],
   "source": [
    "def predict(df_val, dv, model):\n",
    "    dicts = df_val.to_dict(orient='records')\n",
    "    df = dv.transform(dicts)\n",
    "    y_pred = model.predict_proba(df)[:, 1]\n",
    "    return y_pred"
   ]
  },
  {
   "cell_type": "code",
   "execution_count": 87,
   "id": "4857a0bc",
   "metadata": {},
   "outputs": [
    {
     "name": "stdout",
     "output_type": "stream",
     "text": [
      "C: 1.0    AUC: 0.032\n"
     ]
    }
   ],
   "source": [
    "n_splits = 5\n",
    "C = 1.0  \n",
    "\n",
    "kf = KFold(n_splits=n_splits, shuffle=True, random_state=1)\n",
    "scores = []\n",
    "\n",
    "for train_idx, val_idx in kf.split(df_train):\n",
    "    df_train_fold = df_train.iloc[train_idx]\n",
    "    df_val_fold = df_train.iloc[val_idx]\n",
    "    y_train_fold = y_train[train_idx]\n",
    "    y_val_fold = y_train[val_idx]\n",
    "\n",
    "    dv, model = train(df_train_fold, y_train_fold, C)\n",
    "    y_pred = predict(df_val_fold, dv, model)\n",
    "\n",
    "    auc = roc_auc_score(y_val_fold, y_pred)\n",
    "    scores.append(auc)\n",
    "\n",
    "print(f'C: {C:<6} AUC: {np.std(scores):.3f}')\n"
   ]
  },
  {
   "cell_type": "markdown",
   "id": "b3bc8791",
   "metadata": {},
   "source": [
    "# Hyperparameter Tuning"
   ]
  },
  {
   "cell_type": "code",
   "execution_count": 86,
   "id": "c517b8d4",
   "metadata": {},
   "outputs": [
    {
     "name": "stdout",
     "output_type": "stream",
     "text": [
      "C: 1e-06      AUC: 0.510 +/- 0.032\n",
      "C: 0.001      AUC: 0.510 +/- 0.032\n",
      "C: 1          AUC: 0.510 +/- 0.032\n"
     ]
    }
   ],
   "source": [
    "n_splits = 5\n",
    "\n",
    "for C in [0.000001, 0.001, 1]:\n",
    "    kf = KFold(n_splits=n_splits, shuffle=True, random_state=1)\n",
    "    scores = []\n",
    "\n",
    "    for train_idx, val_idx in kf.split(df_train):\n",
    "        df_train_fold = df_train.iloc[train_idx]\n",
    "        df_val_fold = df_train.iloc[val_idx]\n",
    "        y_train_fold = y_train[train_idx]\n",
    "        y_val_fold = y_train[val_idx]\n",
    "\n",
    "        dv, model = train(df_train_fold, y_train_fold, C)\n",
    "        y_pred = predict(df_val_fold, dv, model)\n",
    "\n",
    "        auc = roc_auc_score(y_val_fold, y_pred)\n",
    "        scores.append(auc)\n",
    "    \n",
    "    print(f'C: {C:<10} AUC: {np.mean(scores):.3f} +/- {np.std(scores):.3f}')\n"
   ]
  },
  {
   "cell_type": "code",
   "execution_count": null,
   "id": "535b9405",
   "metadata": {},
   "outputs": [],
   "source": []
  }
 ],
 "metadata": {
  "kernelspec": {
   "display_name": "Python 3 (ipykernel)",
   "language": "python",
   "name": "python3"
  },
  "language_info": {
   "codemirror_mode": {
    "name": "ipython",
    "version": 3
   },
   "file_extension": ".py",
   "mimetype": "text/x-python",
   "name": "python",
   "nbconvert_exporter": "python",
   "pygments_lexer": "ipython3",
   "version": "3.11.5"
  }
 },
 "nbformat": 4,
 "nbformat_minor": 5
}
