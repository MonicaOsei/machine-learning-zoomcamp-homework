{
 "cells": [
  {
   "cell_type": "markdown",
   "id": "c8e05729",
   "metadata": {},
   "source": [
    "# Machine Learning Regression"
   ]
  },
  {
   "cell_type": "code",
   "execution_count": 1,
   "id": "09ce169c",
   "metadata": {},
   "outputs": [],
   "source": [
    "import pandas as pd\n",
    "import numpy as np"
   ]
  },
  {
   "cell_type": "markdown",
   "id": "8de578ff",
   "metadata": {},
   "source": [
    "# Data Preparation"
   ]
  },
  {
   "cell_type": "code",
   "execution_count": 2,
   "id": "d2ffa54f",
   "metadata": {},
   "outputs": [],
   "source": [
    "data = pd.read_csv('https://raw.githubusercontent.com/alexeygrigorev/datasets/master/car_fuel_efficiency.csv')"
   ]
  },
  {
   "cell_type": "code",
   "execution_count": 3,
   "id": "3b2cfa06",
   "metadata": {},
   "outputs": [],
   "source": [
    "df = data[['engine_displacement', 'horsepower', 'vehicle_weight', 'model_year', 'fuel_efficiency_mpg']]"
   ]
  },
  {
   "cell_type": "code",
   "execution_count": 4,
   "id": "23a65951",
   "metadata": {},
   "outputs": [
    {
     "data": {
      "text/html": [
       "<div>\n",
       "<style scoped>\n",
       "    .dataframe tbody tr th:only-of-type {\n",
       "        vertical-align: middle;\n",
       "    }\n",
       "\n",
       "    .dataframe tbody tr th {\n",
       "        vertical-align: top;\n",
       "    }\n",
       "\n",
       "    .dataframe thead th {\n",
       "        text-align: right;\n",
       "    }\n",
       "</style>\n",
       "<table border=\"1\" class=\"dataframe\">\n",
       "  <thead>\n",
       "    <tr style=\"text-align: right;\">\n",
       "      <th></th>\n",
       "      <th>engine_displacement</th>\n",
       "      <th>horsepower</th>\n",
       "      <th>vehicle_weight</th>\n",
       "      <th>model_year</th>\n",
       "      <th>fuel_efficiency_mpg</th>\n",
       "    </tr>\n",
       "  </thead>\n",
       "  <tbody>\n",
       "    <tr>\n",
       "      <th>0</th>\n",
       "      <td>170</td>\n",
       "      <td>159.0</td>\n",
       "      <td>3413.433759</td>\n",
       "      <td>2003</td>\n",
       "      <td>13.231729</td>\n",
       "    </tr>\n",
       "    <tr>\n",
       "      <th>1</th>\n",
       "      <td>130</td>\n",
       "      <td>97.0</td>\n",
       "      <td>3149.664934</td>\n",
       "      <td>2007</td>\n",
       "      <td>13.688217</td>\n",
       "    </tr>\n",
       "    <tr>\n",
       "      <th>2</th>\n",
       "      <td>170</td>\n",
       "      <td>78.0</td>\n",
       "      <td>3079.038997</td>\n",
       "      <td>2018</td>\n",
       "      <td>14.246341</td>\n",
       "    </tr>\n",
       "    <tr>\n",
       "      <th>3</th>\n",
       "      <td>220</td>\n",
       "      <td>NaN</td>\n",
       "      <td>2542.392402</td>\n",
       "      <td>2009</td>\n",
       "      <td>16.912736</td>\n",
       "    </tr>\n",
       "    <tr>\n",
       "      <th>4</th>\n",
       "      <td>210</td>\n",
       "      <td>140.0</td>\n",
       "      <td>3460.870990</td>\n",
       "      <td>2009</td>\n",
       "      <td>12.488369</td>\n",
       "    </tr>\n",
       "  </tbody>\n",
       "</table>\n",
       "</div>"
      ],
      "text/plain": [
       "   engine_displacement  horsepower  vehicle_weight  model_year  \\\n",
       "0                  170       159.0     3413.433759        2003   \n",
       "1                  130        97.0     3149.664934        2007   \n",
       "2                  170        78.0     3079.038997        2018   \n",
       "3                  220         NaN     2542.392402        2009   \n",
       "4                  210       140.0     3460.870990        2009   \n",
       "\n",
       "   fuel_efficiency_mpg  \n",
       "0            13.231729  \n",
       "1            13.688217  \n",
       "2            14.246341  \n",
       "3            16.912736  \n",
       "4            12.488369  "
      ]
     },
     "execution_count": 4,
     "metadata": {},
     "output_type": "execute_result"
    }
   ],
   "source": [
    "df.head()"
   ]
  },
  {
   "cell_type": "code",
   "execution_count": 5,
   "id": "b874ba49",
   "metadata": {},
   "outputs": [
    {
     "data": {
      "text/plain": [
       "engine_displacement      int64\n",
       "horsepower             float64\n",
       "vehicle_weight         float64\n",
       "model_year               int64\n",
       "fuel_efficiency_mpg    float64\n",
       "dtype: object"
      ]
     },
     "execution_count": 5,
     "metadata": {},
     "output_type": "execute_result"
    }
   ],
   "source": [
    "df.dtypes"
   ]
  },
  {
   "cell_type": "markdown",
   "id": "43cff5df",
   "metadata": {},
   "source": [
    "# Exploratory Data Analysis"
   ]
  },
  {
   "cell_type": "code",
   "execution_count": 6,
   "id": "963449f4",
   "metadata": {},
   "outputs": [],
   "source": [
    "import matplotlib.pyplot as plt\n",
    "import seaborn as sns\n",
    "\n",
    "%matplotlib inline"
   ]
  },
  {
   "cell_type": "code",
   "execution_count": 7,
   "id": "9c516e3b",
   "metadata": {},
   "outputs": [
    {
     "data": {
      "text/plain": [
       "<Axes: xlabel='fuel_efficiency_mpg', ylabel='Count'>"
      ]
     },
     "execution_count": 7,
     "metadata": {},
     "output_type": "execute_result"
    },
    {
     "data": {
      "image/png": "[encoded data removed]",
      "text/plain": [
       "<Figure size 640x480 with 1 Axes>"
      ]
     },
     "metadata": {},
     "output_type": "display_data"
    }
   ],
   "source": [
    "sns.histplot(df.fuel_efficiency_mpg , bins = 50)"
   ]
  },
  {
   "cell_type": "code",
   "execution_count": 8,
   "id": "0125bebc",
   "metadata": {},
   "outputs": [
    {
     "data": {
      "text/plain": [
       "engine_displacement      0\n",
       "horsepower             708\n",
       "vehicle_weight           0\n",
       "model_year               0\n",
       "fuel_efficiency_mpg      0\n",
       "dtype: int64"
      ]
     },
     "execution_count": 8,
     "metadata": {},
     "output_type": "execute_result"
    }
   ],
   "source": [
    "#Missing Values\n",
    "df.isnull().sum()"
   ]
  },
  {
   "cell_type": "code",
   "execution_count": 9,
   "id": "5201a551",
   "metadata": {},
   "outputs": [
    {
     "data": {
      "text/plain": [
       "149.0"
      ]
     },
     "execution_count": 9,
     "metadata": {},
     "output_type": "execute_result"
    }
   ],
   "source": [
    "#Median horsepower\n",
    "median_horsepower = df['horsepower'].median()\n",
    "median_horsepower"
   ]
  },
  {
   "cell_type": "code",
   "execution_count": 10,
   "id": "9f5c93e4",
   "metadata": {},
   "outputs": [],
   "source": [
    "def prepare_X(df):\n",
    "    ones = np.ones(df.shape[0])\n",
    "    X = np.column_stack([ones, df])\n",
    "    return X"
   ]
  },
  {
   "cell_type": "code",
   "execution_count": 11,
   "id": "bad3352b",
   "metadata": {},
   "outputs": [],
   "source": [
    "def train_linear_regression(X, y):\n",
    "    XTX = X.T.dot(X)\n",
    "    XTX_inv = np.linalg.inv(XTX)\n",
    "    w = XTX_inv.dot(X.T).dot(y)\n",
    "    return w[0], w[1:]"
   ]
  },
  {
   "cell_type": "code",
   "execution_count": 12,
   "id": "ecf6e0de",
   "metadata": {},
   "outputs": [],
   "source": [
    "def train_linear_regression_reg(X, y, r):\n",
    "    XTX = X.T.dot(X)\n",
    "    reg = r * np.eye(XTX.shape[0])\n",
    "    XTX = XTX + reg\n",
    "    XTX_inv = np.linalg.inv(XTX)\n",
    "    w = XTX_inv.dot(X.T).dot(y)\n",
    "    return w[0], w[1:]"
   ]
  },
  {
   "cell_type": "code",
   "execution_count": 13,
   "id": "3ec8b940",
   "metadata": {},
   "outputs": [],
   "source": [
    "\n",
    "def rmse(y, y_pred):\n",
    "    se = (( y - y_pred) ** 2)\n",
    "    mse = se.mean()\n",
    "    return np.sqrt(mse)"
   ]
  },
  {
   "cell_type": "code",
   "execution_count": 14,
   "id": "7ec958fc",
   "metadata": {},
   "outputs": [],
   "source": [
    "# Splitting Dataset\n",
    "def split_dataset(df, seed=42):\n",
    "    np.random.seed(seed)\n",
    "    n = len(df)\n",
    "    idx = np.arange(n)\n",
    "    np.random.shuffle(idx)\n",
    "\n",
    "    n_train = int(0.6 * n)\n",
    "    n_val = int(0.2 * n)\n",
    "    n_test = n - n_train - n_val\n",
    "\n",
    "    df_train = df.iloc[idx[:n_train]]\n",
    "    df_val = df.iloc[idx[n_train:n_train+n_val]]\n",
    "    df_test = df.iloc[idx[n_train+n_val:]]\n",
    "\n",
    "    return df_train, df_val, df_test\n"
   ]
  },
  {
   "cell_type": "code",
   "execution_count": 16,
   "id": "c13e4c05",
   "metadata": {},
   "outputs": [
    {
     "name": "stdout",
     "output_type": "stream",
     "text": [
      "zero RMSE: 0.52\n",
      "mean RMSE: 0.46\n"
     ]
    }
   ],
   "source": [
    "# Imputing missing values and comparing\n",
    "df_train, df_val, df_test = split_dataset(df, seed=42)\n",
    "\n",
    "for fill_value in ['zero', 'mean']:\n",
    "    df_train_num = df_train.copy()\n",
    "    df_val_num = df_val.copy()\n",
    "\n",
    "    if fill_value == 'zero':\n",
    "        df_train_num = df_train_num.fillna(0)\n",
    "        df_val_num = df_val_num.fillna(0)\n",
    "    else:\n",
    "        mean_hp = df_train_num['horsepower'].mean()\n",
    "        df_train_num['horsepower'] = df_train_num['horsepower'].fillna(mean_hp)\n",
    "        df_val_num['horsepower'] = df_val_num['horsepower'].fillna(mean_hp)\n",
    "\n",
    "    X_train = prepare_X(df_train_num[['engine_displacement', 'horsepower', 'vehicle_weight', 'model_year']].values)\n",
    "    y_train = df_train_num['fuel_efficiency_mpg'].values\n",
    "\n",
    "    X_val = prepare_X(df_val_num[['engine_displacement', 'horsepower', 'vehicle_weight', 'model_year']].values)\n",
    "    y_val = df_val_num['fuel_efficiency_mpg'].values\n",
    "\n",
    "    w0, w = train_linear_regression(X_train, y_train)\n",
    "    y_pred = w0 + X_val[:, 1:].dot(w)\n",
    "    score = rmse(y_val, y_pred)\n",
    "\n",
    "    print(fill_value, 'RMSE:', round(score, 2))"
   ]
  },
  {
   "cell_type": "code",
   "execution_count": 20,
   "id": "4a6021e4",
   "metadata": {},
   "outputs": [
    {
     "name": "stdout",
     "output_type": "stream",
     "text": [
      "0 0.52\n",
      "0.01 0.52\n",
      "0.1 0.52\n",
      "1 0.52\n",
      "5 0.52\n",
      "10 0.52\n",
      "100 0.52\n"
     ]
    }
   ],
   "source": [
    "# Regularised Regression\n",
    "r_values = [0, 0.01, 0.1, 1, 5, 10, 100]\n",
    "scores = {}\n",
    "\n",
    "df_train = df_train.fillna(0)\n",
    "df_val = df_val.fillna(0)\n",
    "\n",
    "X_train = prepare_X(df_train[['engine_displacement', 'horsepower', 'vehicle_weight', 'model_year']].values)\n",
    "y_train = df_train['fuel_efficiency_mpg'].values\n",
    "\n",
    "X_val = prepare_X(df_val[['engine_displacement', 'horsepower', 'vehicle_weight', 'model_year']].values)\n",
    "y_val = df_val['fuel_efficiency_mpg'].values\n",
    "\n",
    "for r in r_values:\n",
    "    w0, w = train_linear_regression_reg(X_train, y_train, r)\n",
    "    y_pred = w0 + X_val[:, 1:].dot(w)\n",
    "    score = rmse(y_val, y_pred)\n",
    "    scores[r] = round(score, 2)\n",
    "    print(r, scores[r])"
   ]
  },
  {
   "cell_type": "code",
   "execution_count": 24,
   "id": "67627d5c",
   "metadata": {},
   "outputs": [
    {
     "name": "stdout",
     "output_type": "stream",
     "text": [
      "Standard deviation of RMSE: 0.007\n"
     ]
    }
   ],
   "source": [
    "# Different seeds for range(10)\n",
    "rmse_scores = []\n",
    "\n",
    "for seed in range(10):\n",
    "    df_train, df_val, df_test = split_dataset(df, seed)\n",
    "    df_train = df_train.fillna(0)\n",
    "    df_val = df_val.fillna(0)\n",
    "\n",
    "    X_train = prepare_X(df_train[['engine_displacement', 'horsepower', 'vehicle_weight', 'model_year']].values)\n",
    "    y_train = df_train['fuel_efficiency_mpg'].values\n",
    "\n",
    "    X_val = prepare_X(df_val[['engine_displacement', 'horsepower', 'vehicle_weight', 'model_year']].values)\n",
    "    y_val = df_val['fuel_efficiency_mpg'].values\n",
    "\n",
    "    w0, w = train_linear_regression(X_train, y_train)\n",
    "    y_pred = w0 + X_val[:, 1:].dot(w)\n",
    "    score = rmse(y_val, y_pred)\n",
    "    rmse_scores.append(score)\n",
    "\n",
    "std_rmse = np.std(rmse_scores)\n",
    "print(\"Standard deviation of RMSE:\", round(std_rmse, 3))"
   ]
  },
  {
   "cell_type": "code",
   "execution_count": 27,
   "id": "c72d52e0",
   "metadata": {},
   "outputs": [
    {
     "name": "stdout",
     "output_type": "stream",
     "text": [
      "Test RMSE: 0.516\n"
     ]
    }
   ],
   "source": [
    "# Q6\n",
    "df_train, df_val, df_test = split_dataset(df, seed=9)\n",
    "\n",
    "df_full_train = pd.concat([df_train, df_val])\n",
    "df_full_train = df_full_train.fillna(0)\n",
    "df_test = df_test.fillna(0)\n",
    "\n",
    "X_full_train = prepare_X(df_full_train[['engine_displacement', 'horsepower', 'vehicle_weight', 'model_year']].values)\n",
    "y_full_train = df_full_train['fuel_efficiency_mpg'].values\n",
    "\n",
    "X_test = prepare_X(df_test[['engine_displacement', 'horsepower', 'vehicle_weight', 'model_year']].values)\n",
    "y_test = df_test['fuel_efficiency_mpg'].values\n",
    "\n",
    "w0, w = train_linear_regression_reg(X_full_train, y_full_train, r=0.001)\n",
    "y_pred = w0 + X_test[:, 1:].dot(w)\n",
    "\n",
    "score = rmse(y_test, y_pred)\n",
    "print(\"Test RMSE:\", round(score, 3))"
   ]
  },
  {
   "cell_type": "code",
   "execution_count": null,
   "id": "60f7bc0d",
   "metadata": {},
   "outputs": [],
   "source": []
  }
 ],
 "metadata": {
  "kernelspec": {
   "display_name": "Python 3 (ipykernel)",
   "language": "python",
   "name": "python3"
  },
  "language_info": {
   "codemirror_mode": {
    "name": "ipython",
    "version": 3
   },
   "file_extension": ".py",
   "mimetype": "text/x-python",
   "name": "python",
   "nbconvert_exporter": "python",
   "pygments_lexer": "ipython3",
   "version": "3.11.5"
  }
 },
 "nbformat": 4,
 "nbformat_minor": 5
}
